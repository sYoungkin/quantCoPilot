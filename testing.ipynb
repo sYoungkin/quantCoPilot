{
 "cells": [
  {
   "cell_type": "code",
   "execution_count": 3,
   "id": "544ff952-5367-4a6b-bbc1-222547b0ba1a",
   "metadata": {},
   "outputs": [],
   "source": [
    "import requests\n",
    "import pandas as pd\n",
    "from datetime import datetime\n",
    "\n",
    "# === CONFIG ===\n",
    "API_KEY = \"850f1623977b408baa58cfb49af39cee\"\n",
    "BASE_URL = \"https://api.twelvedata.com/time_series\""
   ]
  },
  {
   "cell_type": "code",
   "execution_count": 17,
   "id": "0aa2e044-51a2-46a4-886a-06cb966058be",
   "metadata": {},
   "outputs": [],
   "source": [
    "def fetch_data(pair=\"EUR/USD\", interval=\"1min\", limit=100):\n",
    "    #symbol = pair.replace(\"/\", \"\")  # Twelve Data uses EURUSD format\n",
    "    params = {\n",
    "        \"symbol\": pair,\n",
    "        \"interval\": interval,\n",
    "        \"outputsize\": limit,\n",
    "        \"apikey\": API_KEY,\n",
    "        \"format\": \"JSON\"\n",
    "    }\n",
    "\n",
    "    response = requests.get(BASE_URL, params=params)\n",
    "    data = response.json()\n",
    "\n",
    "    if \"values\" not in data:\n",
    "        raise ValueError(f\"Error fetching data: {data.get('message', 'No data returned')}\")\n",
    "\n",
    "    df = pd.DataFrame(data[\"values\"])\n",
    "    df = df.rename(columns={\"datetime\": \"timestamp\"})\n",
    "    df[\"timestamp\"] = pd.to_datetime(df[\"timestamp\"])\n",
    "    df = df.sort_values(\"timestamp\")\n",
    "\n",
    "\n",
    "\n",
    "    return df"
   ]
  },
  {
   "cell_type": "code",
   "execution_count": 18,
   "id": "780dc197-318f-404b-8dda-d0132e03a286",
   "metadata": {},
   "outputs": [],
   "source": [
    "df = fetch_data(\"BTC/USD\", \"1min\", 100)"
   ]
  },
  {
   "cell_type": "code",
   "execution_count": 19,
   "id": "52a7daa2-689d-4a4f-b2d8-c98a930ac66a",
   "metadata": {},
   "outputs": [
    {
     "data": {
      "text/plain": [
       "<bound method NDFrame.head of              timestamp      open      high       low     close\n",
       "99 2025-04-20 14:53:00  84584.88     84650  84584.88  84647.62\n",
       "98 2025-04-20 14:54:00  84647.62  84647.62  84619.82  84622.76\n",
       "97 2025-04-20 14:55:00  84622.75  84645.72  84616.83  84645.72\n",
       "96 2025-04-20 14:56:00  84645.72  84649.99  84637.45  84647.02\n",
       "95 2025-04-20 14:57:00  84641.14  84646.99  84633.83  84635.37\n",
       "..                 ...       ...       ...       ...       ...\n",
       "4  2025-04-20 16:28:00  84545.14  84553.29  84532.14  84537.72\n",
       "3  2025-04-20 16:29:00  84537.72  84537.72  84532.14  84535.33\n",
       "2  2025-04-20 16:30:00  84535.33  84544.58  84493.74  84493.74\n",
       "1  2025-04-20 16:31:00  84494.11  84513.41   84485.7  84511.66\n",
       "0  2025-04-20 16:32:00  84511.57  84511.57   84496.8  84506.46\n",
       "\n",
       "[100 rows x 5 columns]>"
      ]
     },
     "execution_count": 19,
     "metadata": {},
     "output_type": "execute_result"
    }
   ],
   "source": [
    "df.head"
   ]
  },
  {
   "cell_type": "code",
   "execution_count": null,
   "id": "23316893-25b2-4d2f-9090-ca7f14434aec",
   "metadata": {},
   "outputs": [],
   "source": []
  }
 ],
 "metadata": {
  "kernelspec": {
   "display_name": "Python 3 (ipykernel)",
   "language": "python",
   "name": "python3"
  },
  "language_info": {
   "codemirror_mode": {
    "name": "ipython",
    "version": 3
   },
   "file_extension": ".py",
   "mimetype": "text/x-python",
   "name": "python",
   "nbconvert_exporter": "python",
   "pygments_lexer": "ipython3",
   "version": "3.13.3"
  }
 },
 "nbformat": 4,
 "nbformat_minor": 5
}
